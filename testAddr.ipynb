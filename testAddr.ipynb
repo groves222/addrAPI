{
 "cells": [
  {
   "cell_type": "code",
   "execution_count": 143,
   "metadata": {
    "collapsed": false
   },
   "outputs": [
    {
     "name": "stdout",
     "output_type": "stream",
     "text": [
      "Enter url ending in addr. For example http://localhost:64220/apihttp://localhost:64220/api\n",
      "You entered:  http://localhost:64220/api\n"
     ]
    }
   ],
   "source": [
    "import requests\n",
    "import json\n",
    "\n",
    "# Need Python 3 or newer!\n",
    "\n",
    "url=input('Enter url ending in addr. For example http://localhost:64220/api')\n",
    "print ('You entered: ', url)\n",
    "addrUrl = url + '/addr'\n",
    "def printAddrs(response):\n",
    "    jsonResponse=json.loads(response.text)\n",
    "    for i in jsonResponse:\n",
    "        print(i)\n"
   ]
  },
  {
   "cell_type": "code",
   "execution_count": 144,
   "metadata": {
    "collapsed": false
   },
   "outputs": [
    {
     "name": "stdout",
     "output_type": "stream",
     "text": [
      "Current contents of address book:\n",
      "{'emailAddr': None, 'key': 6, 'name': 'Item1', 'addr': None, 'phone': None}\n",
      "{'emailAddr': 'email0', 'key': 7, 'name': 'name0', 'addr': 'address0', 'phone': 'phone0'}\n",
      "{'emailAddr': 'email1', 'key': 8, 'name': 'name1', 'addr': 'this_is_a_new_address', 'phone': 'phone1'}\n",
      "{'emailAddr': 'email2', 'key': 9, 'name': 'name2', 'addr': 'address2', 'phone': 'phone2'}\n",
      "{'emailAddr': 'email4', 'key': 11, 'name': 'name4', 'addr': 'address4', 'phone': 'phone4'}\n",
      "{'emailAddr': 'email5', 'key': 12, 'name': 'name5', 'addr': 'address5', 'phone': 'phone5'}\n",
      "{'emailAddr': 'email6', 'key': 13, 'name': 'name6', 'addr': 'address6', 'phone': 'phone6'}\n",
      "{'emailAddr': 'email7', 'key': 14, 'name': 'name7', 'addr': 'address7', 'phone': 'phone7'}\n",
      "{'emailAddr': 'email8', 'key': 15, 'name': 'name8', 'addr': 'address8', 'phone': 'phone8'}\n",
      "{'emailAddr': 'email9', 'key': 16, 'name': 'name9', 'addr': 'address9', 'phone': 'phone9'}\n",
      "Preparing to delete all addresses. One address with name=Item1 will remain\n",
      "Deleting:  http://localhost:64220/api/addr/6\n",
      "status_code =  204 , No Content\n",
      "Here is current address book contents:\n",
      "Deleting:  http://localhost:64220/api/addr/7\n",
      "status_code =  204 , No Content\n",
      "Here is current address book contents:\n",
      "Deleting:  http://localhost:64220/api/addr/8\n",
      "status_code =  204 , No Content\n",
      "Here is current address book contents:\n",
      "Deleting:  http://localhost:64220/api/addr/9\n",
      "status_code =  204 , No Content\n",
      "Here is current address book contents:\n",
      "Deleting:  http://localhost:64220/api/addr/11\n",
      "status_code =  204 , No Content\n",
      "Here is current address book contents:\n",
      "Deleting:  http://localhost:64220/api/addr/12\n",
      "status_code =  204 , No Content\n",
      "Here is current address book contents:\n",
      "Deleting:  http://localhost:64220/api/addr/13\n",
      "status_code =  204 , No Content\n",
      "Here is current address book contents:\n",
      "Deleting:  http://localhost:64220/api/addr/14\n",
      "status_code =  204 , No Content\n",
      "Here is current address book contents:\n",
      "Deleting:  http://localhost:64220/api/addr/15\n",
      "status_code =  204 , No Content\n",
      "Here is current address book contents:\n",
      "Deleting:  http://localhost:64220/api/addr/16\n",
      "status_code =  204 , No Content\n",
      "Here is current address book contents:\n",
      "{'emailAddr': None, 'key': 17, 'name': 'Item1', 'addr': None, 'phone': None}\n"
     ]
    }
   ],
   "source": [
    "# This section will print the address book, then delete all items, print it again.\n",
    "# System always maintains one address with name=Item1\n",
    "\n",
    "print(\"Current contents of address book:\")\n",
    "r = requests.get(addrUrl)\n",
    "printAddrs(r)\n",
    "print(\"Preparing to delete all addresses. One address with name=Item1 will remain\")\n",
    "jsonResponse=json.loads(r.text)\n",
    "for i in jsonResponse:\n",
    "    urlToDelete=addrUrl + '/' + str(i['key'])\n",
    "    print(\"Deleting: \", urlToDelete)\n",
    "    del1=requests.delete(addrUrl+'/'+str(i['key']))\n",
    "    print(\"status_code = \", del1.status_code, \", \" + del1.reason)\n",
    "    print(\"Here is current address book contents:\")\n",
    "r=requests.get(addrUrl)\n",
    "printAddrs(r)"
   ]
  },
  {
   "cell_type": "code",
   "execution_count": 145,
   "metadata": {
    "collapsed": false
   },
   "outputs": [
    {
     "name": "stdout",
     "output_type": "stream",
     "text": [
      "Adding 10 new addresses:\n",
      "{'emailAddr': 'email8', 'key': 26, 'name': 'name8', 'addr': 'address8', 'phone': 'phone8'}\n",
      "{'emailAddr': 'email7', 'key': 25, 'name': 'name7', 'addr': 'address7', 'phone': 'phone7'}\n",
      "{'emailAddr': 'email6', 'key': 24, 'name': 'name6', 'addr': 'address6', 'phone': 'phone6'}\n",
      "{'emailAddr': 'email5', 'key': 23, 'name': 'name5', 'addr': 'address5', 'phone': 'phone5'}\n",
      "{'emailAddr': 'email9', 'key': 27, 'name': 'name9', 'addr': 'address9', 'phone': 'phone9'}\n",
      "{'emailAddr': 'email4', 'key': 22, 'name': 'name4', 'addr': 'address4', 'phone': 'phone4'}\n",
      "{'emailAddr': 'email3', 'key': 21, 'name': 'name3', 'addr': 'address3', 'phone': 'phone3'}\n",
      "{'emailAddr': 'email2', 'key': 20, 'name': 'name2', 'addr': 'address2', 'phone': 'phone2'}\n",
      "{'emailAddr': 'email1', 'key': 19, 'name': 'name1', 'addr': 'address1', 'phone': 'phone1'}\n",
      "{'emailAddr': 'email0', 'key': 18, 'name': 'name0', 'addr': 'address0', 'phone': 'phone0'}\n",
      "{'emailAddr': None, 'key': 17, 'name': 'Item1', 'addr': None, 'phone': None}\n"
     ]
    }
   ],
   "source": [
    "#This section will create 10 addresses and then printout all addresses\n",
    "print(\"Adding 10 new addresses:\")\n",
    "\n",
    "for i in range(10):\n",
    "   suffix = str(i)\n",
    "   payload= {\"name\": \"name\"+suffix, \"phone\": \"phone\"+suffix,\n",
    "             \"addr\": \"address\"+suffix, \"emailAddr\": \"email\"+suffix}\n",
    "   rPost=requests.post(addrUrl, json=payload)\n",
    "r=requests.get(addrUrl)\n",
    "printAddrs(r)"
   ]
  },
  {
   "cell_type": "code",
   "execution_count": 146,
   "metadata": {
    "collapsed": false
   },
   "outputs": [
    {
     "name": "stdout",
     "output_type": "stream",
     "text": [
      "Deleting address with name=name3\n",
      "Deleting:  http://localhost:64220/api/addr/21\n",
      "status_code =  204 , No Content\n",
      "Check to see if name3 is gone. Here is current address book:\n",
      "{'emailAddr': 'email8', 'key': 26, 'name': 'name8', 'addr': 'address8', 'phone': 'phone8'}\n",
      "{'emailAddr': 'email7', 'key': 25, 'name': 'name7', 'addr': 'address7', 'phone': 'phone7'}\n",
      "{'emailAddr': 'email6', 'key': 24, 'name': 'name6', 'addr': 'address6', 'phone': 'phone6'}\n",
      "{'emailAddr': 'email5', 'key': 23, 'name': 'name5', 'addr': 'address5', 'phone': 'phone5'}\n",
      "{'emailAddr': 'email9', 'key': 27, 'name': 'name9', 'addr': 'address9', 'phone': 'phone9'}\n",
      "{'emailAddr': 'email4', 'key': 22, 'name': 'name4', 'addr': 'address4', 'phone': 'phone4'}\n",
      "{'emailAddr': 'email2', 'key': 20, 'name': 'name2', 'addr': 'address2', 'phone': 'phone2'}\n",
      "{'emailAddr': 'email1', 'key': 19, 'name': 'name1', 'addr': 'address1', 'phone': 'phone1'}\n",
      "{'emailAddr': 'email0', 'key': 18, 'name': 'name0', 'addr': 'address0', 'phone': 'phone0'}\n",
      "{'emailAddr': None, 'key': 17, 'name': 'Item1', 'addr': None, 'phone': None}\n"
     ]
    }
   ],
   "source": [
    "#This section will read the address book and delete the FIRST row which has name=name3\n",
    "\n",
    "print(\"Deleting address with name=name3\")\n",
    "r=requests.get(addrUrl)\n",
    "jsonResponse=json.loads(r.text)\n",
    "for i in jsonResponse:\n",
    "   if (i['name'] == 'name3'):\n",
    "      urlToDelete=addrUrl + '/' + str(i['key'])\n",
    "      print(\"Deleting: \", urlToDelete)\n",
    "      del1=requests.delete(addrUrl+'/'+str(i['key']))\n",
    "      print(\"status_code = \", del1.status_code, \", \" + del1.reason)\n",
    "\n",
    "print(\"Check to see if name3 is gone. Here is current address book:\")\n",
    "r=requests.get(addrUrl)\n",
    "printAddrs(r)\n"
   ]
  },
  {
   "cell_type": "code",
   "execution_count": 147,
   "metadata": {
    "collapsed": false
   },
   "outputs": [
    {
     "name": "stdout",
     "output_type": "stream",
     "text": [
      "status_code =  204 , No Content\n",
      "Check to see if addre has changed in row 3. Here is current address book:\n",
      "{'emailAddr': 'email8', 'key': 26, 'name': 'name8', 'addr': 'address8', 'phone': 'phone8'}\n",
      "{'emailAddr': 'email7', 'key': 25, 'name': 'name7', 'addr': 'address7', 'phone': 'phone7'}\n",
      "{'emailAddr': 'email6', 'key': 24, 'name': 'name6', 'addr': 'this_is_a_new_address', 'phone': 'phone6'}\n",
      "{'emailAddr': 'email5', 'key': 23, 'name': 'name5', 'addr': 'address5', 'phone': 'phone5'}\n",
      "{'emailAddr': 'email9', 'key': 27, 'name': 'name9', 'addr': 'address9', 'phone': 'phone9'}\n",
      "{'emailAddr': 'email4', 'key': 22, 'name': 'name4', 'addr': 'address4', 'phone': 'phone4'}\n",
      "{'emailAddr': 'email2', 'key': 20, 'name': 'name2', 'addr': 'address2', 'phone': 'phone2'}\n",
      "{'emailAddr': 'email1', 'key': 19, 'name': 'name1', 'addr': 'address1', 'phone': 'phone1'}\n",
      "{'emailAddr': 'email0', 'key': 18, 'name': 'name0', 'addr': 'address0', 'phone': 'phone0'}\n",
      "{'emailAddr': None, 'key': 17, 'name': 'Item1', 'addr': None, 'phone': None}\n"
     ]
    }
   ],
   "source": [
    "# This section will update the third row changing addr to addr=this_is_a_new_address\n",
    "r=requests.get(addrUrl)\n",
    "jsonResponse=json.loads(r.text)\n",
    "row = jsonResponse[2]\n",
    "row['addr']='this_is_a_new_address'\n",
    "keyUrl = addrUrl + '/' + str(row['key'])\n",
    "rPut=requests.put(keyUrl, json=row)\n",
    "print(\"status_code = \", rPut.status_code, \", \" + rPut.reason)\n",
    "\n",
    "print(\"Check to see if address has changed in row 3. Here is current address book:\")\n",
    "r=requests.get(addrUrl)\n",
    "printAddrs(r)"
   ]
  },
  {
   "cell_type": "code",
   "execution_count": null,
   "metadata": {
    "collapsed": true
   },
   "outputs": [],
   "source": []
  }
 ],
 "metadata": {
  "kernelspec": {
   "display_name": "Python 3",
   "language": "python",
   "name": "python3"
  },
  "language_info": {
   "codemirror_mode": {
    "name": "ipython",
    "version": 3
   },
   "file_extension": ".py",
   "mimetype": "text/x-python",
   "name": "python",
   "nbconvert_exporter": "python",
   "pygments_lexer": "ipython3",
   "version": "3.5.2"
  }
 },
 "nbformat": 4,
 "nbformat_minor": 2
}
